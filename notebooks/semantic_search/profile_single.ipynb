{
 "cells": [
  {
   "cell_type": "markdown",
   "id": "d64a6d2a-b6a4-40a5-b40f-26500fb0bf03",
   "metadata": {},
   "source": [
    "# Profiling Semantic Search"
   ]
  },
  {
   "cell_type": "code",
   "execution_count": 1,
   "id": "35cd646e-7393-4c39-b382-a7cb018f2e77",
   "metadata": {},
   "outputs": [],
   "source": [
    "import numpy as np\n",
    "\n",
    "from datasets import load_dataset\n",
    "from sentence_transformers import SentenceTransformer\n",
    "\n",
    "import jmagics.duration"
   ]
  },
  {
   "cell_type": "code",
   "execution_count": 2,
   "id": "23b93e3d-ab8c-496c-9bb8-947111aa2c16",
   "metadata": {},
   "outputs": [],
   "source": [
    "model = SentenceTransformer('all-mpnet-base-v2')\n",
    "texts = load_dataset(\"Sreenath/million-text-embeddings\", split=\"test\")[:10000]['text']"
   ]
  },
  {
   "cell_type": "markdown",
   "id": "251c3f4c-7060-4b54-82e5-7fcc11d1987c",
   "metadata": {},
   "source": [
    "## Step 1: Embedding"
   ]
  },
  {
   "cell_type": "code",
   "execution_count": 3,
   "id": "56f50943-fa65-4950-9b12-bb01d6f048c2",
   "metadata": {},
   "outputs": [
    {
     "name": "stdout",
     "output_type": "stream",
     "text": [
      "Duration:  14.2 s\n"
     ]
    }
   ],
   "source": [
    "%%duration EMBEDDING\n",
    "embeddings = model.encode(texts)"
   ]
  },
  {
   "cell_type": "markdown",
   "id": "52f27e8d-eb50-4c92-8a18-59826d4786cf",
   "metadata": {},
   "source": [
    "## Step 2: Normalize"
   ]
  },
  {
   "cell_type": "code",
   "execution_count": 4,
   "id": "955f01cb-3492-4adb-aa33-ed72c08da0ef",
   "metadata": {},
   "outputs": [
    {
     "name": "stdout",
     "output_type": "stream",
     "text": [
      "Duration:  5.65 ms\n"
     ]
    }
   ],
   "source": [
    "%%duration NORMALIZE\n",
    "embeddings_norm = embeddings/np.linalg.norm(embeddings, axis=1, keepdims=True)"
   ]
  },
  {
   "cell_type": "code",
   "execution_count": 5,
   "id": "7122d8a8-9613-4603-ade5-e90e7d554298",
   "metadata": {},
   "outputs": [],
   "source": [
    "query_norm = embeddings_norm[99]\n",
    "K=5"
   ]
  },
  {
   "cell_type": "markdown",
   "id": "fd1b8c54-30f4-40da-955f-13fd32344519",
   "metadata": {},
   "source": [
    "## Step 3: Similarity calculation"
   ]
  },
  {
   "cell_type": "code",
   "execution_count": 6,
   "id": "910ec3d3-eba1-4d6c-abe7-4b2250bf92d7",
   "metadata": {},
   "outputs": [
    {
     "name": "stdout",
     "output_type": "stream",
     "text": [
      "Duration:  316 μs\n"
     ]
    }
   ],
   "source": [
    "%%duration CALCULATE_SIMILARITY\n",
    "cos_sims = np.dot(embeddings_norm, query_norm)"
   ]
  },
  {
   "cell_type": "markdown",
   "id": "7f267951-a72d-4f4f-9008-6c4451897bf1",
   "metadata": {},
   "source": [
    "## Step 4: Top-K Extraction"
   ]
  },
  {
   "cell_type": "code",
   "execution_count": 7,
   "id": "920c970e-7fc0-42a4-b72d-61a84cd80cb6",
   "metadata": {},
   "outputs": [
    {
     "name": "stdout",
     "output_type": "stream",
     "text": [
      "Duration:  499 μs\n"
     ]
    }
   ],
   "source": [
    "%%duration GET_TOP\n",
    "top_indexes = np.argsort(cos_sims)[-K:][::-1]"
   ]
  },
  {
   "cell_type": "code",
   "execution_count": 8,
   "id": "74eebfca-eae2-4dc4-82e4-bf07969261f9",
   "metadata": {},
   "outputs": [
    {
     "data": {
      "text/plain": [
       "(array([  99, 5873, 7076, 1642, 5547]),\n",
       " array([1.        , 0.5824195 , 0.52046716, 0.51989347, 0.49409178],\n",
       "       dtype=float32),\n",
       " ['Google Analytics generates statistical and other information about website use by means of cookies, which are stored on computers of users.',\n",
       "  'Cookies are pieces of information that a website transfers to your hard drive to store and sometimes track information about you.',\n",
       "  'Cookies are little text files saved by your browser and thus stored on your computer.',\n",
       "  'The number of visitors a Web site receives.',\n",
       "  'Tracking technologies also used are, tags, and scripts to collect and track information and to improve and analyze our Service.'])"
      ]
     },
     "execution_count": 8,
     "metadata": {},
     "output_type": "execute_result"
    }
   ],
   "source": [
    "top_indexes, cos_sims[top_indexes], [texts[i] for i in top_indexes]"
   ]
  },
  {
   "cell_type": "code",
   "execution_count": 9,
   "id": "05b3015d-e010-49a5-bbd6-f4fe2d3f388e",
   "metadata": {},
   "outputs": [
    {
     "data": {
      "image/png": "[encoded data removed]",
      "text/plain": [
       "<Figure size 1400x600 with 1 Axes>"
      ]
     },
     "metadata": {},
     "output_type": "display_data"
    }
   ],
   "source": [
    "%plot_durations log\n",
    "%reset_durations"
   ]
  }
 ],
 "metadata": {
  "kernelspec": {
   "display_name": "Python 3 (ipykernel)",
   "language": "python",
   "name": "python3"
  },
  "language_info": {
   "codemirror_mode": {
    "name": "ipython",
    "version": 3
   },
   "file_extension": ".py",
   "mimetype": "text/x-python",
   "name": "python",
   "nbconvert_exporter": "python",
   "pygments_lexer": "ipython3",
   "version": "3.12.7"
  }
 },
 "nbformat": 4,
 "nbformat_minor": 5
}
